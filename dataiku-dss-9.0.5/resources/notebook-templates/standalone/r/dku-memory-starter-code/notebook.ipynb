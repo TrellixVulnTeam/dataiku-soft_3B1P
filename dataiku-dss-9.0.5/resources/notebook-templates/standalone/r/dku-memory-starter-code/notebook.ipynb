{
 "cells": [
  {
   "cell_type": "code", "metadata" : {}, "outputs" : [], "execution_count" : null,
   "source": [
    "library(dataiku)"
   ]
  },
  {
   "cell_type": "code", "metadata" : {}, "outputs" : [], "execution_count" : null,
   "source": [
      "# Example: load a DSS dataset as a R dataframe\n",
      "mydataset <- dkuReadDataset(\"mydataset\", samplingMethod=\"head\", nbRows=100000)"
    ]
  },
  {
   "cell_type": "code", "metadata" : {}, "outputs" : [], "execution_count" : null,
   "source": [
   ]
  }
 ],
 "metadata": {
  "kernelspec": {
   "display_name" : "R",
   "language": "R",
   "name": "ir"
  }
 },
 "nbformat": 4,
 "nbformat_minor": 0
}