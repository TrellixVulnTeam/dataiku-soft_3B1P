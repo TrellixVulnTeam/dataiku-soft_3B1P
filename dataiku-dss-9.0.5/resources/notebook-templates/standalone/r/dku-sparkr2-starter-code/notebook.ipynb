{
 "cells": [
  {
   "cell_type": "code", "metadata" : {}, "outputs" : [], "execution_count" : null,
   "source": [
    "library(SparkR)\n",
    "library(dataiku)\n",
    "library(dataiku.spark2)"
   ]
  },
  {
   "cell_type": "code", "metadata" : {}, "outputs" : [], "execution_count" : null,
   "source": [
      "# Initialize SparkR\n",
      "sc <- sparkR.session()"
    ]
  },
  {
   "cell_type": "code", "metadata" : {}, "outputs" : [], "execution_count" : null,
   "source": [
      "# Example: Read a Dataiku dataset as a Spark dataframe\n",
      "df <- dkuSparkReadDataset(\"mydataset\")"
     ]
  },
   {
   "cell_type": "code", "metadata" : {}, "outputs" : [], "execution_count" : null,
   "source": [
      "# Example: aggregate a Spark dataframe by col1\n",
      "head(agg(groupBy(df, df$col1), col2=\"avg\"))"
   ]
  },
  {
   "cell_type": "code", "metadata" : {}, "outputs" : [], "execution_count" : null,
   "source": [
      "# Example: write a Spark dataframe to a Dataiku dataset\n",
      "# NB: It is advised to rather use recipes to write datasets\n",
      "dkuSparkWriteDataset(df, \"mydataset_output\")"
    ]
  }
 ],
 "metadata": {
  "kernelspec": {
   "display_name" : "R",
   "language": "R",
   "name": "ir"
  }
 },
 "nbformat": 4,
 "nbformat_minor": 0
}