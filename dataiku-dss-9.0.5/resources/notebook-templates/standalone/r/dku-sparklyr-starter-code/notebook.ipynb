{
 "cells": [
  {
   "cell_type": "code", "metadata" : {}, "outputs" : [], "execution_count" : null,
   "source": [
    "library(sparklyr)\n",
    "library(dplyr)\n",
    "library(dataiku)\n",
    "library(dataiku.sparklyr)"
   ]
  },
  {
   "cell_type": "code", "metadata" : {}, "outputs" : [], "execution_count" : null,
   "source": [
      "# Initialize sparklyr\n",
      "sc <- dku_spark_connect()"
    ]
  },
  {
   "cell_type": "code", "metadata" : {}, "outputs" : [], "execution_count" : null,
   "source": [
      "# Example: Read a Dataiku dataset as a sparklyr dataframe\n",
      "df <- spark_read_dku_dataset(sc, \"mydataset\", \"mydataset_tbl\")"
     ]
  },
   {
   "cell_type": "code", "metadata" : {}, "outputs" : [], "execution_count" : null,
   "source": [
      "# Example: aggregate a sparklyr dataframe by col1, count and average col2\n",
      "df %>% group_by(col1) %>% summarize(count = n(), col2avg = avg(col2))"
   ]
  },
  {
   "cell_type": "code", "metadata" : {}, "outputs" : [], "execution_count" : null,
   "source": [
      "# Example: write a sparklyr dataframe to a Dataiku dataset\n",
      "# NB: It is advised to rather use recipes to write datasets\n",
      "spark_write_dku_dataset(df, \"mydataset_output\")"
    ]
  }
 ],
 "metadata": {
  "kernelspec": {
   "display_name" : "R",
   "language": "R",
   "name": "ir"
  }
 },
 "nbformat": 4,
 "nbformat_minor": 0
}