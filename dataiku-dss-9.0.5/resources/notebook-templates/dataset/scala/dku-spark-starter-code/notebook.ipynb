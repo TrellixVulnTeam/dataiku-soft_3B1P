{
 "cells": [
  {
   "cell_type": "code", "metadata" : {}, "outputs" :[], "execution_count" : null,
   "source": [
    "import com.dataiku.dss.spark._\n",
    "import org.apache.spark.SparkContext\n",
    "import org.apache.spark.sql.SQLContext\n",
    "import org.apache.spark.sql.functions._\n",
    "val sparkConf    = DataikuSparkContext.buildSparkConf()\n",
    "val sparkContext = new SparkContext(sparkConf)\n",
    "val sqlContext   = new SQLContext(sparkContext)\n",
    "val dkuContext   = DataikuSparkContext.getContext(sparkContext)"
    ]
  },
  {
   "cell_type": "code", "metadata" : {}, "outputs" :[], "execution_count" : null,
   "source": [
      "// Load the Dataiku dataset into a Spark DataFrame\n",
      "val df = dkuContext.getDataFrame(sqlContext, \"__INPUT_DATASET_SMART_NAME__\")"
    ]
  },
  {
   "cell_type": "code", "metadata" : {}, "outputs" :[], "execution_count" : null,
   "source": [
      "// Example: Get the count of records in the dataframe\n",
      "df.count()"
   ]
  }
 ],
 "metadata": {
  "kernelspec": {
   "display_name" : "Spark-Scala",
   "language": "scala",
   "name": "toree"
  }
 },
 "nbformat": 4,
 "nbformat_minor": 0
}
