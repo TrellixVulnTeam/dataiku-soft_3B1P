{
 "cells": [
  {
   "cell_type": "code", "metadata":{}, "outputs" : [], "execution_count" : null,
   "source": [
    "library(sparklyr)\n",
    "library(dplyr)\n",
    "library(dataiku)\n",
    "library(dataiku.sparklyr)"
   ]
  },
  {
   "cell_type": "code", "metadata" : {}, "outputs" : [], "execution_count" : null,
   "source": [
      "# Initialize sparklyr\n",
      "sc <- dku_spark_connect()"
    ]
  },
  {
   "cell_type": "code", "metadata":{}, "outputs" : [], "execution_count" : null,
   "source": [
      "# Read the dataset as a sparklyr dataframe\n",
      "df <- spark_read_dku_dataset(sc, \"__INPUT_DATASET_SMART_NAME__\", \"__INPUT_DATASET_SMART_NAME___tbl\")"
    ]
  },
  {
   "cell_type": "code", "metadata":{}, "outputs" : [], "execution_count" : null,
   "source": [
   ]
  }
 ],
 "metadata": {
  "kernelspec": {
   "display_name" : "R",
   "language": "r",
   "name": "ir"
  }
 },
 "nbformat": 4,
 "nbformat_minor": 0
}