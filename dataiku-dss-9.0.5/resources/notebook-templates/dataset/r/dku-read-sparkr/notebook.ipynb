{
 "cells": [
  {
   "cell_type": "code", "metadata":{}, "outputs" : [], "execution_count" : null,
   "source": [
    "library(SparkR)\n",
    "library(dataiku)\n",
    "library(dataiku.spark)"
   ]
  },
  {
   "cell_type": "code", "metadata" : {}, "outputs" : [], "execution_count" : null,
   "source": [
      "# Initialize SparkR\n",
      "sc <- sparkR.init()\n",
      "sqlContext <- sparkRSQL.init(sc)"
    ]
  },
  {
   "cell_type": "code", "metadata":{}, "outputs" : [], "execution_count" : null,
   "source": [
      "# Read the dataset as a SparkR dataframe\n",
      "df <- dkuSparkReadDataset(sqlContext, \"__INPUT_DATASET_SMART_NAME__\")"
    ]
  },
  {
   "cell_type": "code", "metadata":{}, "outputs" : [], "execution_count" : null,
   "source": [
   ]
  }
 ],
 "metadata": {
  "kernelspec": {
   "display_name" : "R",
   "language": "r",
   "name": "ir"
  }
 },
 "nbformat": 4,
 "nbformat_minor": 0
}