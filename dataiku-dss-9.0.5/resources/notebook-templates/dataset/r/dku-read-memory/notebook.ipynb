{
 "cells": [
  {
   "cell_type": "code", "metadata":{}, "outputs" : [], "execution_count" : null,
   "source": [
    "library(dataiku)"
   ]
  },
  {
   "cell_type": "code", "metadata":{}, "outputs" : [], "execution_count" : null,
   "source": [
      "# Read the dataset as a R dataframe in memory\n",
      "# Note: here, we only read the first 100K rows. Other sampling options are available\n",
      "df <- dkuReadDataset(\"__INPUT_DATASET_SMART_NAME__\", samplingMethod=\"head\", nbRows=100000)"
    ]
  },
  {
   "cell_type": "code", "metadata":{}, "outputs" : [], "execution_count" : null,
   "source": [
   ]
  }
 ],
 "metadata": {
  "kernelspec": {
   "display_name" : "R",
   "language": "r",
   "name": "ir"
  }
 },
 "nbformat": 4,
 "nbformat_minor": 0
}