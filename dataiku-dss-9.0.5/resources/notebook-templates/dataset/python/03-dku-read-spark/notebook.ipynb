{
 "cells": [
  {
   "cell_type": "code", "metadata":{}, "outputs" : [], "execution_count" : null,
   "source": [
    "%pylab inline"
   ]
  },
  {
   "cell_type": "code", "metadata" : {}, "outputs" :[], "execution_count" : null,
   "source": [
    "import dataiku\n",
    "import dataiku.spark as dkuspark\n",
    "import pyspark\n",
    "from pyspark.sql import SQLContext"
   ]
  },
  {
   "cell_type": "code", "metadata" : {}, "outputs" :[], "execution_count" : null,
   "source": [
     "# Load PySpark\n",
     "sc = pyspark.SparkContext()\n",
     "sqlContext = SQLContext(sc)"
    ]
  },
  {
   "cell_type": "code", "metadata" : {}, "outputs" :[], "execution_count" : null,
   "source": [
      "# Read the descriptor of the Dataiku dataset\n",
      "dataset = dataiku.Dataset(\"__INPUT_DATASET_SMART_NAME__\")\n",
      "# And read it as a Spark dataframe\n",
      "df = dkuspark.get_dataframe(sqlContext, dataset)"
    ]
  },
  {
   "cell_type": "code", "metadata" : {}, "outputs" :[], "execution_count" : null,
   "source": [
      "# Example: Get the count of records in the dataframe\n",
      "df.count()"
   ]
  }
 ],
 "metadata": {
  "kernelspec": {
   "display_name" : "Python 2",
   "language": "python",
   "name": "python2"
  }
 },
 "nbformat": 4,
 "nbformat_minor": 0
}