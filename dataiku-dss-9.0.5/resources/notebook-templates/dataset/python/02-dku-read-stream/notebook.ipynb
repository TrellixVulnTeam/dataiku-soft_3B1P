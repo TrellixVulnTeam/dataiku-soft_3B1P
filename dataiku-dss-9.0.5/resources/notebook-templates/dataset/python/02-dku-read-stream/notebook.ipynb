{
 "cells": [
  {
   "cell_type": "code", "metadata":{}, "outputs" : [], "execution_count" : null,
   "source": [
    "%pylab inline"
   ]
  },
  {
   "cell_type": "code", "metadata":{}, "outputs" : [], "execution_count" : null,
   "source": [
    "import dataiku"
   ]
  },
  {
   "cell_type": "code", "metadata":{}, "outputs" : [], "execution_count" : null,
   "source": [
      "# Read the dataset row by row, and operate on each row\n",
      "# Reading row by row can operate on very large datasets with little memory.\n",
      "#\n",
      "# First, obtain a handle on the dataset\n",
      "dataset___INPUT_DATASET_CLEAN_NAME__ = dataiku.Dataset(\"__INPUT_DATASET_SMART_NAME__\")"
    ]
  },
   {
   "cell_type": "code", "metadata":{}, "outputs" : [], "execution_count" : null,
   "source": [
      "# Then perform the actual read\n",
      "already_read = 0\n",
      "for row in dataset___INPUT_DATASET_CLEAN_NAME__.iter_rows():\n",
      "    # row is a dict-like object\n",
      "    print row[\"replace_by_a_real_column_name\"]\n",
      "    already_read += 1\n",
      "    if already_read == 10:\n",
      "        break"
    ]
  },
  {
   "cell_type": "code", "metadata":{}, "outputs" : [], "execution_count" : null,
   "source": [
   ]
  }
 ],
 "metadata": {
  "kernelspec": {
   "display_name" : "Python 2",
   "language": "python",
   "name": "python2"
  }
 },
 "nbformat": 4,
 "nbformat_minor": 0
}