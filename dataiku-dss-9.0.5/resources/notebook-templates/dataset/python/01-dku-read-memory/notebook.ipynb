{
 "cells": [
  {
   "cell_type": "code", "metadata":{}, "outputs" : [], "execution_count" : null,
   "source": [
    "%pylab inline"
   ]
  },
  {
   "cell_type": "code", "metadata":{}, "outputs" : [], "execution_count" : null,
   "source": [
    "import dataiku\n",
    "from dataiku import pandasutils as pdu\n",
    "import pandas as pd"
   ]
  },
  {
   "cell_type": "code", "metadata":{}, "outputs" : [], "execution_count" : null,
   "source": [
      "# Read the dataset as a Pandas dataframe in memory\n",
      "# Note: here, we only read the first 100K rows. Other sampling options are available\n",
      "dataset___INPUT_DATASET_CLEAN_NAME__ = dataiku.Dataset(\"__INPUT_DATASET_SMART_NAME__\")\n",
      "df = dataset___INPUT_DATASET_CLEAN_NAME__.get_dataframe(limit=100000)"
    ]
  },
   {
   "cell_type": "code", "metadata":{}, "outputs" : [], "execution_count" : null,
   "source": [
      "# Get some simple descriptive statistics\n",
      "pdu.audit(df)"
    ]
  },
  {
   "cell_type": "code", "metadata":{}, "outputs" : [], "execution_count" : null,
   "source": [
   ]
  }
 ],
 "metadata": {
  "kernelspec": {
   "display_name" : "Python 2",
   "language": "python",
   "name": "python2"
  }
 },
 "nbformat": 4,
 "nbformat_minor": 0
}