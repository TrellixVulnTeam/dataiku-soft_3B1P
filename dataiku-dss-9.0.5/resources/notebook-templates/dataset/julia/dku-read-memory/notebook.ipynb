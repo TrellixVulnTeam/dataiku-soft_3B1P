{
 "cells": [
  {
   "cell_type": "code",
   "execution_count": null,
   "metadata": {},
   "outputs": [],
   "source": [
    "using Dataiku\n",
    "import Dataiku: get_dataframe\n",
    "using DataFrames"
   ]
  },
  {
   "cell_type": "code",
   "execution_count": null,
   "metadata": {},
   "outputs": [],
   "source": [
    "# Loads a dataset into a Julia DataFrame\n",
    "# Note: here, we only read the first 100K rows. Other sampling options are available\n",
    "__INPUT_DATASET_SMART_NAME___df = get_dataframe(dataset\"__INPUT_DATASET_SMART_NAME__\", sampling=\"head\", limit=100000)"
   ]
  },
  {
   "cell_type": "code",
   "execution_count": null,
   "metadata": {},
   "outputs": [],
   "source": []
  }
 ],
 "metadata": {
  "kernelspec": {
   "display_name": "Julia",
   "language": "julia",
   "name": "julia"
  }
 },
 "nbformat": 4,
 "nbformat_minor": 0
}
